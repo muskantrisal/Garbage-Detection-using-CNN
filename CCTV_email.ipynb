{
 "cells": [
  {
   "cell_type": "code",
   "execution_count": 1,
   "metadata": {},
   "outputs": [
    {
     "name": "stderr",
     "output_type": "stream",
     "text": [
      "Using TensorFlow backend.\n"
     ]
    }
   ],
   "source": [
    "import numpy as np \n",
    "import pandas as pd\n",
    "import os\n",
    "import keras\n",
    "import matplotlib.pyplot as plt\n",
    "from glob import glob \n",
    "import cv2\n",
    "from PIL import Image\n",
    "from pathlib import Path"
   ]
  },
  {
   "cell_type": "code",
   "execution_count": 2,
   "metadata": {},
   "outputs": [
    {
     "data": {
      "text/plain": [
       "'C:\\\\Users\\\\My HP Pavilion'"
      ]
     },
     "execution_count": 2,
     "metadata": {},
     "output_type": "execute_result"
    }
   ],
   "source": [
    "pwd"
   ]
  },
  {
   "cell_type": "code",
   "execution_count": 2,
   "metadata": {},
   "outputs": [],
   "source": [
    "from keras.models import load_model\n",
    "model = load_model('final_garbage_detector.h5')\n",
    "\n",
    "model.compile(loss='categorical_crossentropy',\n",
    "              optimizer='adam',\n",
    "              metrics=['accuracy'])"
   ]
  },
  {
   "cell_type": "code",
   "execution_count": 3,
   "metadata": {},
   "outputs": [],
   "source": [
    "def predict_fromCCTV(path):\n",
    "    number_of_images = len(path)\n",
    "    i = 0\n",
    "    predictions = []\n",
    "    while i < number_of_images:\n",
    "        img = cv2.imread(path[i])\n",
    "        img = cv2.resize(img,(300,300))\n",
    "        img = np.reshape(img,[1,300,300,3])\n",
    "        a = model.predict_classes(img)\n",
    "        if a == 0:\n",
    "            return True\n",
    "        else:  \n",
    "            return False\n",
    "        i = i+ 1    "
   ]
  },
  {
   "cell_type": "code",
   "execution_count": 13,
   "metadata": {},
   "outputs": [
    {
     "name": "stdout",
     "output_type": "stream",
     "text": [
      "garbage\n"
     ]
    }
   ],
   "source": [
    "#path_train = 'C:/Users/My HP Pavilion/Desktop/data sets/data-project/train'\n",
    "#path_val = 'C:/Users/My HP Pavilion/Desktop/data sets/data-project/val'\n",
    "#path_test = 'C:/Users/My HP Pavilion/Desktop/data sets/data-project/test'\n",
    "path_CCTV1 = glob('C:/Users/My HP Pavilion/Desktop/data sets/CCTV1/*.jpg')\n",
    "path_CCTV2 = 'C:/Users/My HP Pavilion/Desktop/data sets/CCTV2'\n",
    "path_CCTV3 = 'C:/Users/My HP Pavilion/Desktop/data sets/CCTV3' \n",
    "\n",
    "a = predict_fromCCTV(path_CCTV1)\n",
    "if a:\n",
    "    print('garbage')"
   ]
  },
  {
   "cell_type": "code",
   "execution_count": 12,
   "metadata": {},
   "outputs": [],
   "source": [
    "import smtplib, ssl\n",
    "\n",
    "port = 465  # For SSL\n",
    "smtp_server = \"smtp.gmail.com\"\n",
    "sender_email = \"nikunjjoshi5022@gmail.com\"  # Enter your address\n",
    "receiver_email = \"shivamkumar682000@gmail.com\"  # Enter receiver address\n",
    "password = 'Muskan@5022'\n",
    "message = \"\"\"\\\n",
    "Subject: Area to be cleaned is found\n",
    " \n",
    "Garbage is found in front of CCTV1                                                                                                 \n",
    "location:Brij Vihar C-60.\"\"\"\n",
    "\n",
    "if predict_fromCCTV(path_CCTV1):\n",
    "    context = ssl.create_default_context()\n",
    "    with smtplib.SMTP_SSL(smtp_server, port, context=context) as server:\n",
    "        server.login(sender_email, password)\n",
    "        server.sendmail(sender_email, receiver_email, message)"
   ]
  },
  {
   "cell_type": "code",
   "execution_count": 14,
   "metadata": {},
   "outputs": [
    {
     "name": "stdout",
     "output_type": "stream",
     "text": [
      "garbage\n"
     ]
    }
   ],
   "source": [
    "a = predict_fromCCTV(path_CCTV1)\n",
    "if a:\n",
    "    print('garbage')"
   ]
  },
  {
   "cell_type": "code",
   "execution_count": null,
   "metadata": {},
   "outputs": [],
   "source": []
  },
  {
   "cell_type": "code",
   "execution_count": null,
   "metadata": {},
   "outputs": [],
   "source": []
  },
  {
   "cell_type": "code",
   "execution_count": null,
   "metadata": {},
   "outputs": [],
   "source": []
  }
 ],
 "metadata": {
  "kernelspec": {
   "display_name": "Python 3",
   "language": "python",
   "name": "python3"
  },
  "language_info": {
   "codemirror_mode": {
    "name": "ipython",
    "version": 3
   },
   "file_extension": ".py",
   "mimetype": "text/x-python",
   "name": "python",
   "nbconvert_exporter": "python",
   "pygments_lexer": "ipython3",
   "version": "3.6.9"
  }
 },
 "nbformat": 4,
 "nbformat_minor": 2
}
